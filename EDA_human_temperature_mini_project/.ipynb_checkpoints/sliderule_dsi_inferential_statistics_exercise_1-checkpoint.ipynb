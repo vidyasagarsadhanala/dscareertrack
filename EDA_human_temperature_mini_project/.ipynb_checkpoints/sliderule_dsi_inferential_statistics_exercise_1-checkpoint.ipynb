{
 "cells": [
  {
   "cell_type": "markdown",
   "metadata": {},
   "source": [
    "# What is the True Normal Human Body Temperature? \n",
    "\n",
    "#### Background\n",
    "\n",
    "The mean normal body temperature was held to be 37$^{\\circ}$C or 98.6$^{\\circ}$F for more than 120 years since it was first conceptualized and reported by Carl Wunderlich in a famous 1868 book. But, is this value statistically correct?"
   ]
  },
  {
   "cell_type": "markdown",
   "metadata": {},
   "source": [
    "<h3>Exercises</h3>\n",
    "\n",
    "<p>In this exercise, you will analyze a dataset of human body temperatures and employ the concepts of hypothesis testing, confidence intervals, and statistical significance.</p>\n",
    "\n",
    "<p>Answer the following questions <b>in this notebook below and submit to your Github account</b>.</p> \n",
    "\n",
    "<ol>\n",
    "<li>  Is the distribution of body temperatures normal? \n",
    "    <ul>\n",
    "    <li> Although this is not a requirement for the Central Limit Theorem to hold (read the introduction on Wikipedia's page about the CLT carefully: https://en.wikipedia.org/wiki/Central_limit_theorem), it gives us some peace of mind that the population may also be normally distributed if we assume that this sample is representative of the population.\n",
    "    <li> Think about the way you're going to check for the normality of the distribution. Graphical methods are usually used first, but there are also other ways: https://en.wikipedia.org/wiki/Normality_test\n",
    "    </ul>\n",
    "<li>  Is the sample size large? Are the observations independent?\n",
    "    <ul>\n",
    "    <li> Remember that this is a condition for the Central Limit Theorem, and hence the statistical tests we are using, to apply.\n",
    "    </ul>\n",
    "<li>  Is the true population mean really 98.6 degrees F?\n",
    "    <ul>\n",
    "    <li> First, try a bootstrap hypothesis test.\n",
    "    <li> Now, let's try frequentist statistical testing. Would you use a one-sample or two-sample test? Why?\n",
    "    <li> In this situation, is it appropriate to use the $t$ or $z$ statistic? \n",
    "    <li> Now try using the other test. How is the result be different? Why?\n",
    "    </ul>\n",
    "<li>  Draw a small sample of size 10 from the data and repeat both frequentist tests. \n",
    "    <ul>\n",
    "    <li> Which one is the correct one to use? \n",
    "    <li> What do you notice? What does this tell you about the difference in application of the $t$ and $z$ statistic?\n",
    "    </ul>\n",
    "<li>  At what temperature should we consider someone's temperature to be \"abnormal\"?\n",
    "    <ul>\n",
    "    <li> As in the previous example, try calculating everything using the boostrap approach, as well as the frequentist approach.\n",
    "    <li> Start by computing the margin of error and confidence interval. When calculating the confidence interval, keep in mind that you should use the appropriate formula for one draw, and not N draws.\n",
    "    </ul>\n",
    "<li>  Is there a significant difference between males and females in normal temperature?\n",
    "    <ul>\n",
    "    <li> What testing approach did you use and why?\n",
    "    <li> Write a story with your conclusion in the context of the original problem.\n",
    "    </ul>\n",
    "</ol>\n",
    "\n",
    "You can include written notes in notebook cells using Markdown: \n",
    "   - In the control panel at the top, choose Cell > Cell Type > Markdown\n",
    "   - Markdown syntax: http://nestacms.com/docs/creating-content/markdown-cheat-sheet\n",
    "\n",
    "#### Resources\n",
    "\n",
    "+ Information and data sources: http://www.amstat.org/publications/jse/datasets/normtemp.txt, http://www.amstat.org/publications/jse/jse_data_archive.htm\n",
    "+ Markdown syntax: http://nestacms.com/docs/creating-content/markdown-cheat-sheet\n",
    "\n",
    "****"
   ]
  },
  {
   "cell_type": "code",
   "execution_count": 343,
   "metadata": {},
   "outputs": [],
   "source": [
    "import pandas as pd\n",
    "from matplotlib import pyplot as plt\n",
    "from statsmodels.graphics.gofplots import qqplot\n",
    "from scipy.stats import shapiro\n",
    "from scipy.stats import normaltest\n",
    "from scipy.stats import anderson\n",
    "from scipy.stats import norm\n",
    "import numpy as np\n",
    "import seaborn as sns\n",
    "import scipy.stats as stats\n",
    "from statsmodels.stats.weightstats import ztest\n",
    "\n",
    "# Input csv data into dataframe df\n",
    "df = pd.read_csv('data/human_body_temperature.csv')"
   ]
  },
  {
   "cell_type": "code",
   "execution_count": 344,
   "metadata": {},
   "outputs": [
    {
     "data": {
      "text/plain": [
       "130"
      ]
     },
     "execution_count": 344,
     "metadata": {},
     "output_type": "execute_result"
    }
   ],
   "source": [
    "# Number of Samples in this data frame\n",
    "len(df)"
   ]
  },
  {
   "cell_type": "code",
   "execution_count": 345,
   "metadata": {},
   "outputs": [
    {
     "data": {
      "text/html": [
       "<div>\n",
       "<style scoped>\n",
       "    .dataframe tbody tr th:only-of-type {\n",
       "        vertical-align: middle;\n",
       "    }\n",
       "\n",
       "    .dataframe tbody tr th {\n",
       "        vertical-align: top;\n",
       "    }\n",
       "\n",
       "    .dataframe thead th {\n",
       "        text-align: right;\n",
       "    }\n",
       "</style>\n",
       "<table border=\"1\" class=\"dataframe\">\n",
       "  <thead>\n",
       "    <tr style=\"text-align: right;\">\n",
       "      <th></th>\n",
       "      <th>temperature</th>\n",
       "      <th>heart_rate</th>\n",
       "    </tr>\n",
       "  </thead>\n",
       "  <tbody>\n",
       "    <tr>\n",
       "      <th>count</th>\n",
       "      <td>130.000000</td>\n",
       "      <td>130.000000</td>\n",
       "    </tr>\n",
       "    <tr>\n",
       "      <th>mean</th>\n",
       "      <td>98.249231</td>\n",
       "      <td>73.761538</td>\n",
       "    </tr>\n",
       "    <tr>\n",
       "      <th>std</th>\n",
       "      <td>0.733183</td>\n",
       "      <td>7.062077</td>\n",
       "    </tr>\n",
       "    <tr>\n",
       "      <th>min</th>\n",
       "      <td>96.300000</td>\n",
       "      <td>57.000000</td>\n",
       "    </tr>\n",
       "    <tr>\n",
       "      <th>25%</th>\n",
       "      <td>97.800000</td>\n",
       "      <td>69.000000</td>\n",
       "    </tr>\n",
       "    <tr>\n",
       "      <th>50%</th>\n",
       "      <td>98.300000</td>\n",
       "      <td>74.000000</td>\n",
       "    </tr>\n",
       "    <tr>\n",
       "      <th>75%</th>\n",
       "      <td>98.700000</td>\n",
       "      <td>79.000000</td>\n",
       "    </tr>\n",
       "    <tr>\n",
       "      <th>max</th>\n",
       "      <td>100.800000</td>\n",
       "      <td>89.000000</td>\n",
       "    </tr>\n",
       "  </tbody>\n",
       "</table>\n",
       "</div>"
      ],
      "text/plain": [
       "       temperature  heart_rate\n",
       "count   130.000000  130.000000\n",
       "mean     98.249231   73.761538\n",
       "std       0.733183    7.062077\n",
       "min      96.300000   57.000000\n",
       "25%      97.800000   69.000000\n",
       "50%      98.300000   74.000000\n",
       "75%      98.700000   79.000000\n",
       "max     100.800000   89.000000"
      ]
     },
     "execution_count": 345,
     "metadata": {},
     "output_type": "execute_result"
    }
   ],
   "source": [
    "#Summary Stats of df\n",
    "df.describe()"
   ]
  },
  {
   "cell_type": "markdown",
   "metadata": {},
   "source": [
    "## Is the distribution of body temperatures normal?"
   ]
  },
  {
   "cell_type": "code",
   "execution_count": 346,
   "metadata": {},
   "outputs": [
    {
     "data": {
      "image/png": "[encoded data removed]",
      "text/plain": [
       "<Figure size 432x288 with 1 Axes>"
      ]
     },
     "metadata": {},
     "output_type": "display_data"
    }
   ],
   "source": [
    "# plotting a histogram using graphical tests, shows normal bell curve like shape.\n",
    "temp_df = df['temperature'].sort_values()\n",
    "n_bins = int(np.sqrt(len(temp_df)))\n",
    "sns.set_style(\"darkgrid\")\n",
    "_ = plt.hist(temp_df, density=True, bins=n_bins)\n",
    "_ = plt.plot(temp_df,norm.pdf(temp_df,np.mean(temp_df), np.std(temp_df)))\n",
    "_ = plt.xlabel('Body Temperatures (F)')\n",
    "_ = plt.ylabel('Counts')\n",
    "_ = plt.show()"
   ]
  },
  {
   "cell_type": "code",
   "execution_count": 347,
   "metadata": {},
   "outputs": [
    {
     "data": {
      "image/png": "[encoded data removed]",
      "text/plain": [
       "<Figure size 432x288 with 1 Axes>"
      ]
     },
     "metadata": {},
     "output_type": "display_data"
    }
   ],
   "source": [
    "# plotting a Q-Q plot using graphical tests, shows a closely fitted line for normal distribution.\n",
    "_ = qqplot(temp_df, line='s')\n",
    "_ = plt.show()"
   ]
  },
  {
   "cell_type": "code",
   "execution_count": 348,
   "metadata": {},
   "outputs": [
    {
     "data": {
      "image/png": "[encoded data removed]",
      "text/plain": [
       "<Figure size 432x288 with 1 Axes>"
      ]
     },
     "metadata": {},
     "output_type": "display_data"
    }
   ],
   "source": [
    "def ecdf(data):\n",
    "    \"\"\"Compute ECDF for a one-dimensional array of measurements.\"\"\"\n",
    "    # Number of data points: n\n",
    "    n = len(data)\n",
    "\n",
    "    # x-data for the ECDF: x\n",
    "    x = np.sort(data)\n",
    "\n",
    "    # y-data for the ECDF: y\n",
    "    y = np.arange(1, len(x)+1) / n\n",
    "\n",
    "    return x, y\n",
    "# Computing the ECDF of Body Temperatures\n",
    "x_temp ,y_temp = ecdf(temp_df)\n",
    "\n",
    "# Plottign the ECDF for Body Temperatures\n",
    "_ = plt.plot(x_temp, y_temp, marker = '.', linestyle = 'none')\n",
    "_ = plt.xlabel('Body Temperatures (F)')\n",
    "_ = plt.ylabel('ECDF')"
   ]
  },
  {
   "cell_type": "code",
   "execution_count": 349,
   "metadata": {},
   "outputs": [
    {
     "name": "stdout",
     "output_type": "stream",
     "text": [
      "Statistics=0.987, p=0.233\n",
      "Sample looks normal (fail to reject H0)\n"
     ]
    }
   ],
   "source": [
    "# 1st normality test using Shapiro-Wilk Test\n",
    "stat, p = shapiro(temp_df)\n",
    "print('Statistics=%.3f, p=%.3f' % (stat, p))\n",
    "# interpret\n",
    "alpha = 0.05\n",
    "if p > alpha:\n",
    "    print('Sample looks normal (fail to reject H0)')\n",
    "else:\n",
    "    print('Sample does not look normal (reject H0)')"
   ]
  },
  {
   "cell_type": "code",
   "execution_count": 350,
   "metadata": {},
   "outputs": [
    {
     "name": "stdout",
     "output_type": "stream",
     "text": [
      "Statistics=2.704, p=0.259\n",
      "Sample looks normal (fail to reject H0)\n"
     ]
    }
   ],
   "source": [
    "# 2nd normality test using D’Agostino’s K^2 Test\n",
    "stat, p = normaltest(temp_df)\n",
    "print('Statistics=%.3f, p=%.3f' % (stat, p))\n",
    "# interpret\n",
    "alpha = 0.05\n",
    "if p > alpha:\n",
    "    print('Sample looks normal (fail to reject H0)')\n",
    "else:\n",
    "    print('Sample does not look normal (reject H0)')"
   ]
  },
  {
   "cell_type": "code",
   "execution_count": 351,
   "metadata": {},
   "outputs": [
    {
     "name": "stdout",
     "output_type": "stream",
     "text": [
      "Statistic: 0.520\n",
      "15.000: 0.560, data looks normal (fail to reject H0)\n",
      "10.000: 0.637, data looks normal (fail to reject H0)\n",
      "5.000: 0.765, data looks normal (fail to reject H0)\n",
      "2.500: 0.892, data looks normal (fail to reject H0)\n",
      "1.000: 1.061, data looks normal (fail to reject H0)\n"
     ]
    }
   ],
   "source": [
    "# 3rd normality test using Anderson-Darling Test\n",
    "result = anderson(temp_df)\n",
    "print('Statistic: %.3f' % result.statistic)\n",
    "p = 0\n",
    "for i in range(len(result.critical_values)):\n",
    "    sl, cv = result.significance_level[i], result.critical_values[i]\n",
    "    if result.statistic < result.critical_values[i]:\n",
    "        print('%.3f: %.3f, data looks normal (fail to reject H0)' % (sl, cv))\n",
    "    else:\n",
    "        print('%.3f: %.3f, data does not look normal (reject H0)' % (sl, cv))"
   ]
  },
  {
   "cell_type": "markdown",
   "metadata": {},
   "source": [
    "> _In conclusion from the above EDA and normality testing we can conclude that the distribution of the dataset is infact normal._"
   ]
  },
  {
   "cell_type": "markdown",
   "metadata": {},
   "source": [
    "## Is the sample size large? Are the observations independent?"
   ]
  },
  {
   "cell_type": "markdown",
   "metadata": {},
   "source": [
    "> _The population sample in this dataframe which is the body temperatures of all human beings is tough to obtain and because Central Limit Theorem states that when a sample size of n >= 30, then we can treat the sampling distribution as approximatly normal regardless of the shape of parent population. This data set has samples of n=130 and has normal distribution so the sample size is large enough._\n",
    "\n",
    "> _The true independent sample are the ones when they are replaced, however with the 10% rule which says that the if our sample size is less than 10% of population and in this case it is less that the true human population which is relatively very larger compared to 130. This sample meets the independence condition._"
   ]
  },
  {
   "cell_type": "markdown",
   "metadata": {},
   "source": [
    "## Is the true population mean really 98.6 degrees F?"
   ]
  },
  {
   "cell_type": "markdown",
   "metadata": {},
   "source": [
    "- First, try a bootstrap hypothesis test"
   ]
  },
  {
   "cell_type": "markdown",
   "metadata": {},
   "source": [
    "#### _Hypothosis Testing_\n",
    "\n",
    "- H0 - mean of population body temperatures is equal to 98.6\n",
    "- HA - mean of population body temperatures is not equal to 98.6"
   ]
  },
  {
   "cell_type": "code",
   "execution_count": 352,
   "metadata": {},
   "outputs": [],
   "source": [
    "# define a bootstrap replicate function\n",
    "def bootstrap_replicate_1d(data, func):\n",
    "    return func(np.random.choice(data, size=len(data)))\n",
    "\n",
    "# define function to generate bootstrap replicates\n",
    "def draw_bs_reps(data, func, size=1):\n",
    "    \"\"\"Draw bootstrap replicates.\"\"\"\n",
    "\n",
    "    # Initialize array of replicates: bs_replicates\n",
    "    bs_replicates = np.empty(size)\n",
    "\n",
    "    # Generate replicates\n",
    "    for i in range(size):\n",
    "        bs_replicates[i] = bootstrap_replicate_1d(data,func)\n",
    "\n",
    "    return bs_replicates"
   ]
  },
  {
   "cell_type": "code",
   "execution_count": 353,
   "metadata": {},
   "outputs": [
    {
     "name": "stdout",
     "output_type": "stream",
     "text": [
      "p-value: 0.0\n",
      "\n",
      "mean: 98.249\n"
     ]
    },
    {
     "data": {
      "image/png": "[encoded data removed]",
      "text/plain": [
       "<Figure size 432x288 with 1 Axes>"
      ]
     },
     "metadata": {},
     "output_type": "display_data"
    }
   ],
   "source": [
    "# bootstrap hypothesis testing for 100,000 samples with mean body temperatures\n",
    "bs_replicates = draw_bs_reps(temp_df,np.mean,100000)\n",
    "\n",
    "# compute the p-value of the bootstrap replicates that are greater than 98.6 (assuming H0 is true) \n",
    "p = np.sum(bs_replicates >= 98.6) / len(bs_replicates)\n",
    "\n",
    "t_stat = np.mean(bs_replicates)\n",
    "\n",
    "print('p-value: {}\\n'.format(p))\n",
    "print('mean: {:0.5}'.format(t_stat))\n",
    "\n",
    "# Plot a histogram of the results\n",
    "_ = plt.hist(bs_replicates, bins=50)\n",
    "_ = plt.axvline(t_stat, color='magenta', linestyle='dashed', linewidth=2)\n",
    "_ = plt.xlabel('Mean Body Temperatures (F)')\n",
    "_ = plt.ylabel('PDF')\n",
    "\n",
    "# Show the plot\n",
    "plt.show()"
   ]
  },
  {
   "cell_type": "markdown",
   "metadata": {},
   "source": [
    "> _Since p-value for 100,000 samples is 0.0 from our bootstrap hypothesis testing we can safely reject the null hypothesis and accept the alternate hypothesis that mean is not equal to 98.6, it is infact 98.249 as see above._"
   ]
  },
  {
   "cell_type": "markdown",
   "metadata": {},
   "source": [
    "- Now, let's try frequentist statistical testing. Would you use a one-sample or two-sample test? Why?\n"
   ]
  },
  {
   "cell_type": "markdown",
   "metadata": {},
   "source": [
    "> _Since in the experiment we were trying to determine if the population mean was different that a constant value of 98.6, a one-sample test would be utilized._"
   ]
  },
  {
   "cell_type": "markdown",
   "metadata": {},
   "source": [
    "- In this situation, is it appropriate to use the  𝑡  or  𝑧  statistic?"
   ]
  },
  {
   "cell_type": "markdown",
   "metadata": {},
   "source": [
    "> _Since in this test we are comparing the population mean to sample mean and we do not know what the population standard deviation is, so a t-statistic is more applicable for our testing since we would be able to estimate the standard deviation which is the sample standard deviation divided by number of samples._"
   ]
  },
  {
   "cell_type": "code",
   "execution_count": 354,
   "metadata": {},
   "outputs": [
    {
     "name": "stdout",
     "output_type": "stream",
     "text": [
      "t-score from One Sample t-test: -5.455\n",
      "\n",
      "p-value from One Sample t-test: 2.410632041561008e-07\n",
      "\n",
      "reject null hypothesis and accept alterate hypothesis since 0.0 < 0.05\n",
      "\n"
     ]
    }
   ],
   "source": [
    "# One-sample t-test with population mean of 98.6\n",
    "t1, p1 = stats.ttest_1samp(temp_df, 98.6)\n",
    "print('t-score from One Sample t-test: {}\\n'.format(round(t1, 3)))\n",
    "print('p-value from One Sample t-test: {}\\n'.format(p1))\n",
    "if p1<0.05:\n",
    "    print(\"reject null hypothesis and accept alterate hypothesis since {} < 0.05\\n\".format(round(p1,3)))\n",
    "else:\n",
    "    print(\"fail to reject null hypothesis since {} > 0.05\\n\".format(round(p1,3)))"
   ]
  },
  {
   "cell_type": "markdown",
   "metadata": {},
   "source": [
    "- Now try using the other test. How is the result be different? Why?"
   ]
  },
  {
   "cell_type": "code",
   "execution_count": 355,
   "metadata": {},
   "outputs": [
    {
     "name": "stdout",
     "output_type": "stream",
     "text": [
      "t-score from One Sample z-test: -5.455\n",
      "\n",
      "p-value from One Sample z-test: 4.902157014113424e-08\n",
      "\n",
      "reject null hypothesis and accept alterate hypothesis since 0.0 < 0.05\n",
      "\n"
     ]
    }
   ],
   "source": [
    "# Z-test with mean of 98.6\n",
    "t2, p2 = ztest(x1=temp_df, value=98.6)\n",
    "print('t-score from One Sample z-test: {}\\n'.format(round(t2, 3)))\n",
    "print('p-value from One Sample z-test: {}\\n'.format(p2))\n",
    "if p2<0.05:\n",
    "    print(\"reject null hypothesis and accept alterate hypothesis since {} < 0.05\\n\".format(round(p2,3)))\n",
    "else:\n",
    "    print(\"fail to reject null hypothesis since {} > 0.05\\n\".format(round(p2,3)))"
   ]
  },
  {
   "cell_type": "markdown",
   "metadata": {},
   "source": [
    "> _In conclusion the p-value from one sample z-test is smaller than the p-value from one sample t-test. This suggests that, if our sample standard deviation is truly representative of the population standard deviation, then it is even more unlikely that the null hypothesis is true._"
   ]
  },
  {
   "cell_type": "markdown",
   "metadata": {},
   "source": [
    "# Draw a small sample of size 10 from the data and repeat both frequentist tests.\n",
    "- Which one is the correct one to use?\n",
    "- What do you notice? What does this tell you about the difference in application of the  𝑡  and  𝑧  statistic?"
   ]
  },
  {
   "cell_type": "code",
   "execution_count": 356,
   "metadata": {},
   "outputs": [
    {
     "name": "stdout",
     "output_type": "stream",
     "text": [
      "t-score from One Sample t-test: -1.104\n",
      "\n",
      "p-value from One Sample t-test: 0.2980709134860527\n",
      "\n",
      "fail to reject null hypothesis since 0.298 > 0.05\n",
      "\n"
     ]
    }
   ],
   "source": [
    "# Randam sample of size 10\n",
    "small_sample = np.random.choice(temp_df, size=10)\n",
    "\n",
    "# Repear One-sample t-test with population mean of 98.6 with small sample\n",
    "t3, p3 = stats.ttest_1samp(small_sample, 98.6)\n",
    "print('t-score from One Sample t-test: {}\\n'.format(round(t3, 3)))\n",
    "print('p-value from One Sample t-test: {}\\n'.format(p3))\n",
    "if p3<0.05:\n",
    "    print(\"reject null hypothesis and accept alterate hypothesis since {} < 0.05\\n\".format(round(p3,3)))\n",
    "else:\n",
    "    print(\"fail to reject null hypothesis since {} > 0.05\\n\".format(round(p3,3)))"
   ]
  },
  {
   "cell_type": "code",
   "execution_count": 357,
   "metadata": {},
   "outputs": [
    {
     "name": "stdout",
     "output_type": "stream",
     "text": [
      "t-score from One Sample z-test: -1.104\n",
      "\n",
      "p-value from One Sample z-test: 0.2694209173018327\n",
      "\n",
      "fail to reject null hypothesis since 0.269 > 0.05\n",
      "\n"
     ]
    }
   ],
   "source": [
    "# Repeat Z-test with mean of 98.6 ith sample sample\n",
    "t4, p4 = ztest(x1=small_sample, value=98.6)\n",
    "print('t-score from One Sample z-test: {}\\n'.format(round(t4, 3)))\n",
    "print('p-value from One Sample z-test: {}\\n'.format(p4))\n",
    "if p4<0.05:\n",
    "    print(\"reject null hypothesis and accept alterate hypothesis since {} < 0.05\\n\".format(round(p4,3)))\n",
    "else:\n",
    "    print(\"fail to reject null hypothesis since {} > 0.05\\n\".format(round(p4,3)))"
   ]
  },
  {
   "cell_type": "markdown",
   "metadata": {},
   "source": [
    "> _Since the sample size is small that 30 and we do not know the standard deviation of the population, it is more appropriate to use t-statistic rather than the z-statistic._\n",
    "\n",
    "> _After running both tests for smaller sample size of 10 random values, the tests produced consistant low p-values in t-test rather than z-test, this may be becuase the t-scores take the degree of freedom into consideration where as z-scores do not._"
   ]
  },
  {
   "cell_type": "markdown",
   "metadata": {},
   "source": [
    "# At what temperature should we consider someone's temperature to be \"abnormal\"?\n",
    "- As in the previous example, try calculating everything using the boostrap approach, as well as the frequentist approach.\n",
    "- Start by computing the margin of error and confidence interval. When calculating the confidence interval, keep in mind that you should use the appropriate formula for one draw, and not N draws."
   ]
  },
  {
   "cell_type": "code",
   "execution_count": 358,
   "metadata": {},
   "outputs": [
    {
     "name": "stdout",
     "output_type": "stream",
     "text": [
      "95% Confidence Interval using Bootstrap Approach:98.124 to 98.375\n",
      "\n",
      "z_critical value: 1.96\n",
      "\n",
      "t_critical value: 1.9785\n",
      "\n",
      "margin of error: 0.12555\n",
      "\n",
      "95% Confidence Interval using Frequentist Approach:98.121 to 98.372\n",
      "\n"
     ]
    }
   ],
   "source": [
    "# Compute the 95% Confidence interval using bootstrap approach\n",
    "ci_bs = np.percentile(bs_replicates, [2.5,97.5])\n",
    "\n",
    "print('95% Confidence Interval using Bootstrap Approach:''{:0.5} to {:0.5}\\n'.format(ci_bs[0],ci_bs[1]))\n",
    "\n",
    "# Compute the 95% Confidence Interval using Frequentist Approach\n",
    "sqrt_n = np.sqrt(len(temp_df))\n",
    "std_n = np.std(temp_df)\n",
    "sem_n = std_n / sqrt_n\n",
    "margin_error = z_critical * sem\n",
    "ci_f1 = mean - margin_error\n",
    "ci_f2 = mean + margin_error\n",
    "\n",
    "# calculate the z_critical value with q = 0.975 since its distribution has two tails\n",
    "z_critical = stats.norm.ppf(q = 0.975)\n",
    "print('z_critical value: {:0.5}\\n'.format(z_critical))\n",
    "\n",
    "# calculate the t_critical value with q = 0.975 since its distribution has two tails and df of 130-1\n",
    "t_critical = stats.t.ppf(q = 0.975, df=129)\n",
    "print('t_critical value: {:0.5}\\n'.format(t_critical))\n",
    "\n",
    "print('margin of error: {:0.5}\\n'.format(margin_error))\n",
    "print('95% Confidence Interval using Frequentist Approach:''{:0.5} to {:0.5}\\n'.format(ci_f1,ci_f2))\n"
   ]
  },
  {
   "cell_type": "markdown",
   "metadata": {},
   "source": [
    "> _Any values below or above either the Bootstrap CI or Frequentist CI are considered Abnormal._"
   ]
  },
  {
   "cell_type": "markdown",
   "metadata": {},
   "source": [
    "# Is there a significant difference between males and females in normal temperature?\n",
    "- What testing approach did you use and why?\n",
    "- Write a story with your conclusion in the context of the original problem."
   ]
  },
  {
   "cell_type": "markdown",
   "metadata": {},
   "source": [
    ">  _Since we are trying to see the difference of two unique sampeles, male and female, we would go with two-sample testing._"
   ]
  },
  {
   "cell_type": "code",
   "execution_count": 359,
   "metadata": {},
   "outputs": [
    {
     "data": {
      "text/html": [
       "<div>\n",
       "<style scoped>\n",
       "    .dataframe tbody tr th:only-of-type {\n",
       "        vertical-align: middle;\n",
       "    }\n",
       "\n",
       "    .dataframe tbody tr th {\n",
       "        vertical-align: top;\n",
       "    }\n",
       "\n",
       "    .dataframe thead th {\n",
       "        text-align: right;\n",
       "    }\n",
       "</style>\n",
       "<table border=\"1\" class=\"dataframe\">\n",
       "  <thead>\n",
       "    <tr style=\"text-align: right;\">\n",
       "      <th></th>\n",
       "      <th>temperature</th>\n",
       "      <th>heart_rate</th>\n",
       "    </tr>\n",
       "  </thead>\n",
       "  <tbody>\n",
       "    <tr>\n",
       "      <th>count</th>\n",
       "      <td>65.000000</td>\n",
       "      <td>65.000000</td>\n",
       "    </tr>\n",
       "    <tr>\n",
       "      <th>mean</th>\n",
       "      <td>98.393846</td>\n",
       "      <td>74.153846</td>\n",
       "    </tr>\n",
       "    <tr>\n",
       "      <th>std</th>\n",
       "      <td>0.743488</td>\n",
       "      <td>8.105227</td>\n",
       "    </tr>\n",
       "    <tr>\n",
       "      <th>min</th>\n",
       "      <td>96.400000</td>\n",
       "      <td>57.000000</td>\n",
       "    </tr>\n",
       "    <tr>\n",
       "      <th>25%</th>\n",
       "      <td>98.000000</td>\n",
       "      <td>68.000000</td>\n",
       "    </tr>\n",
       "    <tr>\n",
       "      <th>50%</th>\n",
       "      <td>98.400000</td>\n",
       "      <td>76.000000</td>\n",
       "    </tr>\n",
       "    <tr>\n",
       "      <th>75%</th>\n",
       "      <td>98.800000</td>\n",
       "      <td>80.000000</td>\n",
       "    </tr>\n",
       "    <tr>\n",
       "      <th>max</th>\n",
       "      <td>100.800000</td>\n",
       "      <td>89.000000</td>\n",
       "    </tr>\n",
       "  </tbody>\n",
       "</table>\n",
       "</div>"
      ],
      "text/plain": [
       "       temperature  heart_rate\n",
       "count    65.000000   65.000000\n",
       "mean     98.393846   74.153846\n",
       "std       0.743488    8.105227\n",
       "min      96.400000   57.000000\n",
       "25%      98.000000   68.000000\n",
       "50%      98.400000   76.000000\n",
       "75%      98.800000   80.000000\n",
       "max     100.800000   89.000000"
      ]
     },
     "execution_count": 359,
     "metadata": {},
     "output_type": "execute_result"
    }
   ],
   "source": [
    "#EDA of male and female temperature data\n",
    "males = df[df['gender'] == 'M']\n",
    "females = df[df['gender'] == 'F']\n",
    "\n",
    "females.describe()"
   ]
  },
  {
   "cell_type": "code",
   "execution_count": 360,
   "metadata": {},
   "outputs": [
    {
     "data": {
      "text/html": [
       "<div>\n",
       "<style scoped>\n",
       "    .dataframe tbody tr th:only-of-type {\n",
       "        vertical-align: middle;\n",
       "    }\n",
       "\n",
       "    .dataframe tbody tr th {\n",
       "        vertical-align: top;\n",
       "    }\n",
       "\n",
       "    .dataframe thead th {\n",
       "        text-align: right;\n",
       "    }\n",
       "</style>\n",
       "<table border=\"1\" class=\"dataframe\">\n",
       "  <thead>\n",
       "    <tr style=\"text-align: right;\">\n",
       "      <th></th>\n",
       "      <th>temperature</th>\n",
       "      <th>heart_rate</th>\n",
       "    </tr>\n",
       "  </thead>\n",
       "  <tbody>\n",
       "    <tr>\n",
       "      <th>count</th>\n",
       "      <td>65.000000</td>\n",
       "      <td>65.000000</td>\n",
       "    </tr>\n",
       "    <tr>\n",
       "      <th>mean</th>\n",
       "      <td>98.104615</td>\n",
       "      <td>73.369231</td>\n",
       "    </tr>\n",
       "    <tr>\n",
       "      <th>std</th>\n",
       "      <td>0.698756</td>\n",
       "      <td>5.875184</td>\n",
       "    </tr>\n",
       "    <tr>\n",
       "      <th>min</th>\n",
       "      <td>96.300000</td>\n",
       "      <td>58.000000</td>\n",
       "    </tr>\n",
       "    <tr>\n",
       "      <th>25%</th>\n",
       "      <td>97.600000</td>\n",
       "      <td>70.000000</td>\n",
       "    </tr>\n",
       "    <tr>\n",
       "      <th>50%</th>\n",
       "      <td>98.100000</td>\n",
       "      <td>73.000000</td>\n",
       "    </tr>\n",
       "    <tr>\n",
       "      <th>75%</th>\n",
       "      <td>98.600000</td>\n",
       "      <td>78.000000</td>\n",
       "    </tr>\n",
       "    <tr>\n",
       "      <th>max</th>\n",
       "      <td>99.500000</td>\n",
       "      <td>86.000000</td>\n",
       "    </tr>\n",
       "  </tbody>\n",
       "</table>\n",
       "</div>"
      ],
      "text/plain": [
       "       temperature  heart_rate\n",
       "count    65.000000   65.000000\n",
       "mean     98.104615   73.369231\n",
       "std       0.698756    5.875184\n",
       "min      96.300000   58.000000\n",
       "25%      97.600000   70.000000\n",
       "50%      98.100000   73.000000\n",
       "75%      98.600000   78.000000\n",
       "max      99.500000   86.000000"
      ]
     },
     "execution_count": 360,
     "metadata": {},
     "output_type": "execute_result"
    }
   ],
   "source": [
    "males.describe()"
   ]
  },
  {
   "cell_type": "code",
   "execution_count": 361,
   "metadata": {},
   "outputs": [
    {
     "data": {
      "image/png": "[encoded data removed]",
      "text/plain": [
       "<Figure size 432x288 with 2 Axes>"
      ]
     },
     "metadata": {},
     "output_type": "display_data"
    }
   ],
   "source": [
    "df_temp = df.groupby(\"gender\")\n",
    "df_temp.boxplot(column=['temperature'])\n",
    "plt.show()"
   ]
  },
  {
   "cell_type": "markdown",
   "metadata": {},
   "source": [
    "> _The mean and standard deviation of the male and female temperature samples vary, from the plot above it looks like males have sligthly lower normal body temperatures compared to females._"
   ]
  },
  {
   "cell_type": "code",
   "execution_count": 362,
   "metadata": {},
   "outputs": [
    {
     "data": {
      "image/png": "[encoded data removed]",
      "text/plain": [
       "<Figure size 432x288 with 1 Axes>"
      ]
     },
     "metadata": {},
     "output_type": "display_data"
    }
   ],
   "source": [
    "# plotting a histogram using graphical tests, shows normal bell curve like shape for males\n",
    "male_temps = males['temperature'].sort_values()\n",
    "n_bins = int(np.sqrt(len(males)))\n",
    "sns.set_style(\"darkgrid\")\n",
    "_ = plt.hist(male_temps, density=True, bins=n_bins,color='blue')\n",
    "_ = plt.plot(male_temps,norm.pdf(male_temps,np.mean(male_temps), np.std(male_temps)), color='k')\n",
    "_ = plt.xlabel('Body Temperatures (F)')\n",
    "_ = plt.ylabel('Counts')\n",
    "_ = plt.show()"
   ]
  },
  {
   "cell_type": "code",
   "execution_count": 363,
   "metadata": {},
   "outputs": [
    {
     "data": {
      "image/png": "[encoded data removed]",
      "text/plain": [
       "<Figure size 432x288 with 1 Axes>"
      ]
     },
     "metadata": {},
     "output_type": "display_data"
    }
   ],
   "source": [
    "# plotting a histogram using graphical tests, shows normal bell curve like shape for females\n",
    "female_temps = females['temperature'].sort_values()\n",
    "n_bins = int(np.sqrt(len(females)))\n",
    "sns.set_style(\"darkgrid\")\n",
    "_ = plt.hist(female_temps, density=True, bins=n_bins, color='magenta')\n",
    "_ = plt.plot(female_temps,norm.pdf(female_temps,np.mean(female_temps), np.std(female_temps)))\n",
    "_ = plt.xlabel('Body Temperatures (F)')\n",
    "_ = plt.ylabel('Counts')\n",
    "_ = plt.show()"
   ]
  },
  {
   "cell_type": "code",
   "execution_count": 364,
   "metadata": {},
   "outputs": [
    {
     "data": {
      "image/png": "[encoded data removed]",
      "text/plain": [
       "<Figure size 432x288 with 1 Axes>"
      ]
     },
     "metadata": {},
     "output_type": "display_data"
    }
   ],
   "source": [
    "# Compute the ECDFs for males and females\n",
    "x_males, y_males = ecdf(male_temps)\n",
    "x_females, y_females = ecdf(female_temps)\n",
    "\n",
    "# ECDF plots for males and females\n",
    "plt.plot(x_males, y_males, marker = '.', linestyle = 'none', color='blue')\n",
    "plt.plot(x_females, y_females, marker='.', linestyle='none', color='magenta')\n",
    "plt.margins = 0.02\n",
    "plt.show()"
   ]
  },
  {
   "cell_type": "markdown",
   "metadata": {},
   "source": [
    "> Hypothesis Testing\n",
    "<br> _H0 - Male and Female normal temperatures are the same._\n",
    "<br> _HA - Male and Female normal temperatures are not the same._"
   ]
  },
  {
   "cell_type": "code",
   "execution_count": 365,
   "metadata": {},
   "outputs": [
    {
     "name": "stdout",
     "output_type": "stream",
     "text": [
      "p-value for Male Temperature variance: 0.4738258037396449\n",
      "\n",
      "p-value for Female Temperature variance: 0.534861375479289\n",
      "\n"
     ]
    }
   ],
   "source": [
    "# bootstrap hypothesis testing for 100,000 samples with variance of male body temperatures\n",
    "bs_replicates_m = draw_bs_reps(male_temps,np.var,100000)\n",
    "\n",
    "# compute the p-value of the bootstrap replicates \n",
    "p = np.sum(bs_replicates_m) / len(bs_replicates_m)\n",
    "\n",
    "print('p-value for Male Temperature variance: {}\\n'.format(p))\n",
    "\n",
    "# bootstrap hypothesis testing for 100,000 samples with variance of male body temperatures\n",
    "bs_replicates_f = draw_bs_reps(female_temps,np.var,100000)\n",
    "\n",
    "# compute the p-value of the bootstrap replicates \n",
    "p = np.sum(bs_replicates_f) / len(bs_replicates_f)\n",
    "\n",
    "print('p-value for Female Temperature variance: {}\\n'.format(p))"
   ]
  },
  {
   "cell_type": "code",
   "execution_count": 366,
   "metadata": {},
   "outputs": [
    {
     "name": "stdout",
     "output_type": "stream",
     "text": [
      "t-statistic: -2.285\n",
      "p-value: 0.02394\n",
      "reject null hypothesis and accept alterate hypothesis since 0.024 < 0.05\n",
      "\n"
     ]
    }
   ],
   "source": [
    "# paired 2 sample t-test\n",
    "two_samp_res = stats.ttest_ind(male_temps, female_temps, equal_var=False)\n",
    "# pvalue <<< 0.05 reject null hypothesis, temperature mean between male and female are not equal\n",
    "print('t-statistic: {:0.4}\\np-value: {:0.4}'.format(two_samp_res.statistic, two_samp_res.pvalue))\n",
    "\n",
    "if two_samp_res.pvalue<0.05:\n",
    "    print(\"reject null hypothesis and accept alterate hypothesis since {} < 0.05\\n\".format(round(two_samp_res.pvalue,3)))\n",
    "else:\n",
    "    print(\"fail to reject null hypothesis since {} > 0.05\\n\".format(round(two_samp_res.pvalue,3)))"
   ]
  },
  {
   "cell_type": "markdown",
   "metadata": {},
   "source": [
    "> _Based on the two sample hypothesis test performed above, with the p-value less than the significance level we can conculde that the normal temperatures for males and females are not the same._"
   ]
  },
  {
   "cell_type": "code",
   "execution_count": null,
   "metadata": {},
   "outputs": [],
   "source": []
  }
 ],
 "metadata": {
  "kernelspec": {
   "display_name": "Python 3",
   "language": "python",
   "name": "python3"
  },
  "language_info": {
   "codemirror_mode": {
    "name": "ipython",
    "version": 3
   },
   "file_extension": ".py",
   "mimetype": "text/x-python",
   "name": "python",
   "nbconvert_exporter": "python",
   "pygments_lexer": "ipython3",
   "version": "3.7.1"
  }
 },
 "nbformat": 4,
 "nbformat_minor": 1
}
