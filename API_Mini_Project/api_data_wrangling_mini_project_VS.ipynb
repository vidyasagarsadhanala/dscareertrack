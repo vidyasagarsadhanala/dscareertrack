{
 "cells": [
  {
   "cell_type": "markdown",
   "metadata": {},
   "source": [
    "This exercise will require you to pull some data from the Qunadl API. Qaundl is currently the most widely used aggregator of financial market data."
   ]
  },
  {
   "cell_type": "markdown",
   "metadata": {},
   "source": [
    "As a first step, you will need to register a free account on the http://www.quandl.com website."
   ]
  },
  {
   "cell_type": "markdown",
   "metadata": {},
   "source": [
    "After you register, you will be provided with a unique API key, that you should store:"
   ]
  },
  {
   "cell_type": "code",
   "execution_count": 50,
   "metadata": {},
   "outputs": [],
   "source": [
    "# Store the API key as a string - according to PEP8, constants are always named in all upper case\n",
    "API_KEY = ''"
   ]
  },
  {
   "cell_type": "markdown",
   "metadata": {},
   "source": [
    "Qaundl has a large number of data sources, but, unfortunately, most of them require a Premium subscription. Still, there are also a good number of free datasets."
   ]
  },
  {
   "cell_type": "markdown",
   "metadata": {},
   "source": [
    "For this mini project, we will focus on equities data from the Frankfurt Stock Exhange (FSE), which is available for free. We'll try and analyze the stock prices of a company called Carl Zeiss Meditec, which manufactures tools for eye examinations, as well as medical lasers for laser eye surgery: https://www.zeiss.com/meditec/int/home.html. The company is listed under the stock ticker AFX_X."
   ]
  },
  {
   "cell_type": "markdown",
   "metadata": {},
   "source": [
    "You can find the detailed Quandl API instructions here: https://docs.quandl.com/docs/time-series"
   ]
  },
  {
   "cell_type": "markdown",
   "metadata": {},
   "source": [
    "While there is a dedicated Python package for connecting to the Quandl API, we would prefer that you use the *requests* package, which can be easily downloaded using *pip* or *conda*. You can find the documentation for the package here: http://docs.python-requests.org/en/master/ "
   ]
  },
  {
   "cell_type": "markdown",
   "metadata": {},
   "source": [
    "Finally, apart from the *requests* package, you are encouraged to not use any third party Python packages, such as *pandas*, and instead focus on what's available in the Python Standard Library (the *collections* module might come in handy: https://pymotw.com/3/collections/ ).\n",
    "Also, since you won't have access to DataFrames, you are encouraged to us Python's native data structures - preferably dictionaries, though some questions can also be answered using lists.\n",
    "You can read more on these data structures here: https://docs.python.org/3/tutorial/datastructures.html"
   ]
  },
  {
   "cell_type": "markdown",
   "metadata": {},
   "source": [
    "Keep in mind that the JSON responses you will be getting from the API map almost one-to-one to Python's dictionaries. Unfortunately, they can be very nested, so make sure you read up on indexing dictionaries in the documentation provided above."
   ]
  },
  {
   "cell_type": "code",
   "execution_count": 51,
   "metadata": {},
   "outputs": [],
   "source": [
    "# First, import the relevant modules\n",
    "import requests\n",
    "import json"
   ]
  },
  {
   "cell_type": "code",
   "execution_count": 52,
   "metadata": {},
   "outputs": [],
   "source": [
    "# Now, call the Quandl API and pull out a small sample of the data (only one day) to get a glimpse\n",
    "# into the JSON structure that will be returned\n",
    "\n",
    "#r = requests.get('https://www.quandl.com/api/v3/datasets/FSE/AFX_X/data.json?start_date=2017-01-01&end_date=2017-12-31&collapse=daily&api_key='+API_KEY)\n",
    "base_url='https://www.quandl.com/api/v3/datasets/'\n",
    "database_code='FSE'\n",
    "dataset_code='AFX_X'\n",
    "return_format='json'\n",
    "start_dt='2019-03-01'\n",
    "end_dt = '2019-03-02'\n",
    "freq='daily'\n",
    "\n",
    "r = requests.get(base_url+database_code+'/'+dataset_code+'/data.'+return_format+'?start_date='+start_dt+'&end_date='+end_dt+'&collapse='+freq+'&api_key='+API_KEY)"
   ]
  },
  {
   "cell_type": "code",
   "execution_count": 53,
   "metadata": {},
   "outputs": [
    {
     "name": "stdout",
     "output_type": "stream",
     "text": [
      "{'dataset_data': {'limit': None, 'transform': None, 'column_index': None, 'column_names': ['Date', 'Open', 'High', 'Low', 'Close', 'Change', 'Traded Volume', 'Turnover', 'Last Price of the Day', 'Daily Traded Units', 'Daily Turnover'], 'start_date': '2019-03-01', 'end_date': '2019-03-02', 'frequency': 'daily', 'data': [['2019-03-01', None, 75.7, 74.5, 75.6, None, 82127.0, 6184411.0, None, None, None]], 'collapse': 'daily', 'order': None}}\n"
     ]
    },
    {
     "data": {
      "text/plain": [
       "dict"
      ]
     },
     "execution_count": 53,
     "metadata": {},
     "output_type": "execute_result"
    }
   ],
   "source": [
    "# Inspect the JSON structure of the object you created, and take note of how nested it is,\n",
    "# as well as the overall structure\n",
    "\n",
    "print((r.json()))\n",
    "\n",
    "r_json_data = r.json()\n",
    "\n",
    "#Checking the type of response\n",
    "type(r_json_data)\n"
   ]
  },
  {
   "cell_type": "markdown",
   "metadata": {},
   "source": [
    "These are your tasks for this mini project:\n",
    "\n",
    "1. Collect data from the Franfurt Stock Exchange, for the ticker AFX_X, for the whole year 2017 (keep in mind that the date format is YYYY-MM-DD).\n",
    "2. Convert the returned JSON object into a Python dictionary.\n",
    "3. Calculate what the highest and lowest opening prices were for the stock in this period.\n",
    "4. What was the largest change in any one day (based on High and Low price)?\n",
    "5. What was the largest change between any two days (based on Closing Price)?\n",
    "6. What was the average daily trading volume during this year?\n",
    "7. (Optional) What was the median trading volume during this year. (Note: you may need to implement your own function for calculating the median.)"
   ]
  },
  {
   "cell_type": "markdown",
   "metadata": {},
   "source": [
    "## Collect data from the Franfurt Stock Exchange, for the ticker AFX_X, for the whole year 2017 (keep in mind that the date format is YYYY-MM-DD)."
   ]
  },
  {
   "cell_type": "code",
   "execution_count": 54,
   "metadata": {},
   "outputs": [
    {
     "name": "stdout",
     "output_type": "stream",
     "text": [
      "API Call Return Status: <Response [200]>\n"
     ]
    }
   ],
   "source": [
    "base_url='https://www.quandl.com/api/v3/datasets/'\n",
    "database_code='FSE'\n",
    "dataset_code='AFX_X'\n",
    "return_format='json'\n",
    "start_dt='2017-01-01'\n",
    "end_dt = '2017-12-31'\n",
    "freq='daily'\n",
    "\n",
    "r = requests.get(base_url+database_code+'/'+dataset_code+'/data.'+return_format+'?start_date='+start_dt+'&end_date='+end_dt+'&collapse='+freq+'&api_key='+API_KEY)\n",
    "print('API Call Return Status: '+ str(r))"
   ]
  },
  {
   "cell_type": "markdown",
   "metadata": {},
   "source": [
    "## Convert the returned JSON object into a Python dictionary."
   ]
  },
  {
   "cell_type": "code",
   "execution_count": 55,
   "metadata": {},
   "outputs": [
    {
     "data": {
      "text/plain": [
       "dict"
      ]
     },
     "execution_count": 55,
     "metadata": {},
     "output_type": "execute_result"
    }
   ],
   "source": [
    "r_json_data = r.json()\n",
    "\n",
    "#Checking the type of response\n",
    "type(r_json_data)"
   ]
  },
  {
   "cell_type": "markdown",
   "metadata": {},
   "source": [
    "## Calculate what the highest and lowest opening prices were for the stock in this period."
   ]
  },
  {
   "cell_type": "code",
   "execution_count": 56,
   "metadata": {},
   "outputs": [
    {
     "name": "stdout",
     "output_type": "stream",
     "text": [
      "First few records in dictionary:\n",
      "('2017-12-29', 51.76)\n",
      "('2017-12-28', 51.65)\n",
      "('2017-12-27', 51.45)\n",
      "('2017-12-22', 51.05)\n",
      "('2017-12-21', 51.16)\n",
      "\n",
      "Highest opening price in period of year 2017 for AFX_X:\n",
      "Date:['2017-12-14']  Opening Value:53.11\n",
      "\n",
      "Lowest opening price in period of year 2017 for AFX_X:\n",
      "Date:['2017-01-24']  Opening Value:34.0\n"
     ]
    }
   ],
   "source": [
    "#Checking the keys in dictionary\n",
    "r_json_data.keys()\n",
    "\n",
    "#Gettign the dataset_data keys \n",
    "r_json_data['dataset_data'].keys()\n",
    "\n",
    "#Column name in the dataset_data\n",
    "r_json_data['dataset_data']['column_names']\n",
    "\n",
    "#Viewing the data\n",
    "r_json_data['dataset_data']['data']\n",
    "\n",
    "#extracting dates\n",
    "date_key = r_json_data['dataset_data']['column_names'].index('Date')\n",
    "\n",
    "#extacting Opening values\n",
    "opening_vals = r_json_data['dataset_data']['column_names'].index('Open')\n",
    "\n",
    "dict_data = r_json_data['dataset_data']['data']\n",
    "\n",
    "#Converting to dictionary with date as key and Opening values as values\n",
    "json_dict = {dict_data[i][date_key]:dict_data[i][opening_vals] for i in range(len(dict_data)) if dict_data[i][opening_vals] is not None}\n",
    "\n",
    "#Viewing the first 5 recording in dict\n",
    "iterator = iter(json_dict.items())\n",
    "print('First few records in dictionary:')\n",
    "for i in range(5):\n",
    "    print(next(iterator))\n",
    "         \n",
    "max_value = max(json_dict.values())\n",
    "max_keys = [k for k, v in json_dict.items() if v == max_value]\n",
    "\n",
    "min_value = min(json_dict.values())\n",
    "min_keys = [k for k, v in json_dict.items() if v == min_value]\n",
    "\n",
    "print('\\nHighest opening price in period of year 2017 for AFX_X:')\n",
    "print( 'Date:' + str(max_keys) + '  Opening Value:'+str(max_value))\n",
    "\n",
    "print('\\nLowest opening price in period of year 2017 for AFX_X:')\n",
    "print( 'Date:' + str(min_keys) + '  Opening Value:'+str(min_value))"
   ]
  },
  {
   "cell_type": "markdown",
   "metadata": {},
   "source": [
    "## What was the largest change in any one day (based on High and Low price)?"
   ]
  },
  {
   "cell_type": "code",
   "execution_count": 57,
   "metadata": {},
   "outputs": [
    {
     "name": "stdout",
     "output_type": "stream",
     "text": [
      "\n",
      "Largest change in any one day (based on High and Low Values):\n",
      "Date:['2017-05-11']  Largest Change:2.8100000000000023\n"
     ]
    }
   ],
   "source": [
    "#extracting High\n",
    "high_vals = r_json_data['dataset_data']['column_names'].index('High')\n",
    "\n",
    "#extacting Low\n",
    "low_vals = r_json_data['dataset_data']['column_names'].index('Low')\n",
    "\n",
    "#Converting to dictionary with date as key and Opening values as values\n",
    "high_low_dict = {dict_data[i][date_key]:abs(dict_data[i][high_vals] - dict_data[i][low_vals]) for i in range(len(dict_data)) if dict_data[i][high_vals] is not None}\n",
    "\n",
    "max_high_low_value = max(high_low_dict.values())\n",
    "max_high_low_key = [k for k, v in high_low_dict.items() if v == max_high_low_value]\n",
    "\n",
    "print('\\nLargest change in any one day (based on High and Low Values):')\n",
    "print( 'Date:' + str(max_high_low_key) + '  Largest Change:'+str(max_high_low_value))"
   ]
  },
  {
   "cell_type": "markdown",
   "metadata": {},
   "source": [
    "## What was the largest change between any two days (based on Closing Price)?"
   ]
  },
  {
   "cell_type": "code",
   "execution_count": 58,
   "metadata": {
    "scrolled": true
   },
   "outputs": [
    {
     "name": "stdout",
     "output_type": "stream",
     "text": [
      "\n",
      "Largest change between two days (based on Closing Price):\n",
      "Date:['2017-08-08'] Largest Close Change in Two Days:2.559999999999995\n"
     ]
    }
   ],
   "source": [
    "#extracting Close Column Values\n",
    "close_vals = r_json_data['dataset_data']['column_names'].index('Close')\n",
    "   \n",
    "#Converting to dictionary with date as key and close - prev close values as values, ignoring first record \n",
    "close_dict = {dict_data[i][date_key]:abs(dict_data[i][close_vals] - dict_data[i-1][close_vals]) for i in range(1,len(dict_data)) if dict_data[i][close_vals] is not None}\n",
    "\n",
    "max_close_chg_value = max(close_dict.values())\n",
    "max_close_chg_key = [k for k, v in close_dict.items() if v == max_close_chg_value]\n",
    "\n",
    "print('\\nLargest change between two days (based on Closing Price):')\n",
    "print('Date:' +str(max_close_chg_key) + ' Largest Close Change in Two Days:' +str(max(close_dict.values())))"
   ]
  },
  {
   "cell_type": "markdown",
   "metadata": {},
   "source": [
    "## What was the average daily trading volume during this year?"
   ]
  },
  {
   "cell_type": "code",
   "execution_count": 59,
   "metadata": {},
   "outputs": [
    {
     "name": "stdout",
     "output_type": "stream",
     "text": [
      "Avg. Daily Trading Volume during this year: 89124.33725490196\n"
     ]
    }
   ],
   "source": [
    "#extracting Traded Volume Column Values\n",
    "trade_vol_vals = r_json_data['dataset_data']['column_names'].index('Traded Volume')\n",
    "\n",
    "trade_vol_list = [dict_data[i][trade_vol_vals] for i in range(len(dict_data)) if dict_data[i][trade_vol_vals] is not None]\n",
    "\n",
    "avg_trade_vol = sum(trade_vol_list)/len(trade_vol_list)\n",
    "\n",
    "print('Avg. Daily Trading Volume during this year: ' +str(avg_trade_vol))"
   ]
  },
  {
   "cell_type": "markdown",
   "metadata": {},
   "source": [
    "## What was the median trading volume during this year. (Note: you may need to implement your own function for calculating the median.)"
   ]
  },
  {
   "cell_type": "code",
   "execution_count": 60,
   "metadata": {},
   "outputs": [],
   "source": [
    "def get_median(values):\n",
    "    \n",
    "    #get the len of input list\n",
    "    l = len(values)\n",
    "    \n",
    "    #if input is less than 1 return None\n",
    "    if l < 1:\n",
    "        return None\n",
    "    #if even then sort and get the middle value\n",
    "    if l % 2 == 1:\n",
    "        return sorted(values)[l//2]\n",
    "    #else if odd then get the middle two values in list and divide them by 2.0\n",
    "    else:\n",
    "        return sum(sorted(values)[l//2-1:l//2+1])/2.0"
   ]
  },
  {
   "cell_type": "code",
   "execution_count": 61,
   "metadata": {},
   "outputs": [
    {
     "name": "stdout",
     "output_type": "stream",
     "text": [
      "\n",
      "Median Tranding Volume during this year: 76286.0\n"
     ]
    }
   ],
   "source": [
    "print('\\nMedian Tranding Volume during this year: '+ str(get_median(values = trade_vol_list)))"
   ]
  }
 ],
 "metadata": {
  "celltoolbar": "Edit Metadata",
  "kernelspec": {
   "display_name": "Python 3",
   "language": "python",
   "name": "python3"
  },
  "language_info": {
   "codemirror_mode": {
    "name": "ipython",
    "version": 3
   },
   "file_extension": ".py",
   "mimetype": "text/x-python",
   "name": "python",
   "nbconvert_exporter": "python",
   "pygments_lexer": "ipython3",
   "version": "3.7.1"
  }
 },
 "nbformat": 4,
 "nbformat_minor": 2
}
